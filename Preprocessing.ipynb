{
 "cells": [
  {
   "cell_type": "markdown",
   "id": "rotary-killing",
   "metadata": {},
   "source": [
    "# Data cleaning and preprocessing\n",
    "\n",
    "---\n"
   ]
  },
  {
   "cell_type": "markdown",
   "id": "catholic-representative",
   "metadata": {},
   "source": [
    "# 1. Importing required libraries"
   ]
  },
  {
   "cell_type": "code",
   "execution_count": 1,
   "id": "mathematical-johns",
   "metadata": {},
   "outputs": [],
   "source": [
    "import os\n",
    "import pandas as pd"
   ]
  },
  {
   "cell_type": "markdown",
   "id": "relative-major",
   "metadata": {},
   "source": [
    "---"
   ]
  },
  {
   "cell_type": "markdown",
   "id": "changing-surrey",
   "metadata": {},
   "source": [
    "# 2. Display a sample of the dataset"
   ]
  },
  {
   "cell_type": "code",
   "execution_count": 2,
   "id": "pending-debate",
   "metadata": {},
   "outputs": [
    {
     "data": {
      "text/html": [
       "<div>\n",
       "<style scoped>\n",
       "    .dataframe tbody tr th:only-of-type {\n",
       "        vertical-align: middle;\n",
       "    }\n",
       "\n",
       "    .dataframe tbody tr th {\n",
       "        vertical-align: top;\n",
       "    }\n",
       "\n",
       "    .dataframe thead th {\n",
       "        text-align: right;\n",
       "    }\n",
       "</style>\n",
       "<table border=\"1\" class=\"dataframe\">\n",
       "  <thead>\n",
       "    <tr style=\"text-align: right;\">\n",
       "      <th></th>\n",
       "      <th>open</th>\n",
       "      <th>high</th>\n",
       "      <th>low</th>\n",
       "      <th>close</th>\n",
       "      <th>volume</th>\n",
       "    </tr>\n",
       "    <tr>\n",
       "      <th>time</th>\n",
       "      <th></th>\n",
       "      <th></th>\n",
       "      <th></th>\n",
       "      <th></th>\n",
       "      <th></th>\n",
       "    </tr>\n",
       "  </thead>\n",
       "  <tbody>\n",
       "    <tr>\n",
       "      <th>2021-02-22 20:00:00</th>\n",
       "      <td>125.82</td>\n",
       "      <td>125.83</td>\n",
       "      <td>125.80</td>\n",
       "      <td>125.82</td>\n",
       "      <td>9980</td>\n",
       "    </tr>\n",
       "    <tr>\n",
       "      <th>2021-02-22 19:59:00</th>\n",
       "      <td>125.83</td>\n",
       "      <td>125.83</td>\n",
       "      <td>125.79</td>\n",
       "      <td>125.79</td>\n",
       "      <td>7433</td>\n",
       "    </tr>\n",
       "    <tr>\n",
       "      <th>2021-02-22 19:58:00</th>\n",
       "      <td>125.82</td>\n",
       "      <td>125.83</td>\n",
       "      <td>125.81</td>\n",
       "      <td>125.83</td>\n",
       "      <td>1370</td>\n",
       "    </tr>\n",
       "    <tr>\n",
       "      <th>2021-02-22 19:57:00</th>\n",
       "      <td>125.85</td>\n",
       "      <td>125.85</td>\n",
       "      <td>125.80</td>\n",
       "      <td>125.80</td>\n",
       "      <td>5133</td>\n",
       "    </tr>\n",
       "    <tr>\n",
       "      <th>2021-02-22 19:56:00</th>\n",
       "      <td>125.85</td>\n",
       "      <td>125.85</td>\n",
       "      <td>125.84</td>\n",
       "      <td>125.84</td>\n",
       "      <td>3717</td>\n",
       "    </tr>\n",
       "  </tbody>\n",
       "</table>\n",
       "</div>"
      ],
      "text/plain": [
       "                       open    high     low   close  volume\n",
       "time                                                       \n",
       "2021-02-22 20:00:00  125.82  125.83  125.80  125.82    9980\n",
       "2021-02-22 19:59:00  125.83  125.83  125.79  125.79    7433\n",
       "2021-02-22 19:58:00  125.82  125.83  125.81  125.83    1370\n",
       "2021-02-22 19:57:00  125.85  125.85  125.80  125.80    5133\n",
       "2021-02-22 19:56:00  125.85  125.85  125.84  125.84    3717"
      ]
     },
     "execution_count": 2,
     "metadata": {},
     "output_type": "execute_result"
    }
   ],
   "source": [
    "ticker = \"AAPL\"\n",
    "month = \"1\"\n",
    "\n",
    "stock = pd.read_csv(f\"./TDL_Project_Data/{ticker}_year1_month{month}.csv\", index_col=0)\n",
    "\n",
    "stock.head()"
   ]
  },
  {
   "cell_type": "markdown",
   "id": "plastic-legislation",
   "metadata": {},
   "source": [
    "---"
   ]
  },
  {
   "cell_type": "markdown",
   "id": "domestic-cream",
   "metadata": {},
   "source": [
    "# 3. Separate date and time"
   ]
  },
  {
   "cell_type": "code",
   "execution_count": 3,
   "id": "athletic-broadcasting",
   "metadata": {},
   "outputs": [
    {
     "data": {
      "text/html": [
       "<div>\n",
       "<style scoped>\n",
       "    .dataframe tbody tr th:only-of-type {\n",
       "        vertical-align: middle;\n",
       "    }\n",
       "\n",
       "    .dataframe tbody tr th {\n",
       "        vertical-align: top;\n",
       "    }\n",
       "\n",
       "    .dataframe thead th {\n",
       "        text-align: right;\n",
       "    }\n",
       "</style>\n",
       "<table border=\"1\" class=\"dataframe\">\n",
       "  <thead>\n",
       "    <tr style=\"text-align: right;\">\n",
       "      <th></th>\n",
       "      <th>open</th>\n",
       "      <th>high</th>\n",
       "      <th>low</th>\n",
       "      <th>close</th>\n",
       "      <th>volume</th>\n",
       "      <th>year</th>\n",
       "      <th>month</th>\n",
       "      <th>day</th>\n",
       "      <th>hour</th>\n",
       "      <th>minute</th>\n",
       "    </tr>\n",
       "    <tr>\n",
       "      <th>time</th>\n",
       "      <th></th>\n",
       "      <th></th>\n",
       "      <th></th>\n",
       "      <th></th>\n",
       "      <th></th>\n",
       "      <th></th>\n",
       "      <th></th>\n",
       "      <th></th>\n",
       "      <th></th>\n",
       "      <th></th>\n",
       "    </tr>\n",
       "  </thead>\n",
       "  <tbody>\n",
       "    <tr>\n",
       "      <th>2021-02-22 20:00:00</th>\n",
       "      <td>125.82</td>\n",
       "      <td>125.83</td>\n",
       "      <td>125.80</td>\n",
       "      <td>125.82</td>\n",
       "      <td>9980</td>\n",
       "      <td>2021</td>\n",
       "      <td>2</td>\n",
       "      <td>22</td>\n",
       "      <td>20</td>\n",
       "      <td>0</td>\n",
       "    </tr>\n",
       "    <tr>\n",
       "      <th>2021-02-22 19:59:00</th>\n",
       "      <td>125.83</td>\n",
       "      <td>125.83</td>\n",
       "      <td>125.79</td>\n",
       "      <td>125.79</td>\n",
       "      <td>7433</td>\n",
       "      <td>2021</td>\n",
       "      <td>2</td>\n",
       "      <td>22</td>\n",
       "      <td>19</td>\n",
       "      <td>59</td>\n",
       "    </tr>\n",
       "    <tr>\n",
       "      <th>2021-02-22 19:58:00</th>\n",
       "      <td>125.82</td>\n",
       "      <td>125.83</td>\n",
       "      <td>125.81</td>\n",
       "      <td>125.83</td>\n",
       "      <td>1370</td>\n",
       "      <td>2021</td>\n",
       "      <td>2</td>\n",
       "      <td>22</td>\n",
       "      <td>19</td>\n",
       "      <td>58</td>\n",
       "    </tr>\n",
       "    <tr>\n",
       "      <th>2021-02-22 19:57:00</th>\n",
       "      <td>125.85</td>\n",
       "      <td>125.85</td>\n",
       "      <td>125.80</td>\n",
       "      <td>125.80</td>\n",
       "      <td>5133</td>\n",
       "      <td>2021</td>\n",
       "      <td>2</td>\n",
       "      <td>22</td>\n",
       "      <td>19</td>\n",
       "      <td>57</td>\n",
       "    </tr>\n",
       "    <tr>\n",
       "      <th>2021-02-22 19:56:00</th>\n",
       "      <td>125.85</td>\n",
       "      <td>125.85</td>\n",
       "      <td>125.84</td>\n",
       "      <td>125.84</td>\n",
       "      <td>3717</td>\n",
       "      <td>2021</td>\n",
       "      <td>2</td>\n",
       "      <td>22</td>\n",
       "      <td>19</td>\n",
       "      <td>56</td>\n",
       "    </tr>\n",
       "  </tbody>\n",
       "</table>\n",
       "</div>"
      ],
      "text/plain": [
       "                       open    high     low   close  volume  year  month  day  \\\n",
       "time                                                                            \n",
       "2021-02-22 20:00:00  125.82  125.83  125.80  125.82    9980  2021      2   22   \n",
       "2021-02-22 19:59:00  125.83  125.83  125.79  125.79    7433  2021      2   22   \n",
       "2021-02-22 19:58:00  125.82  125.83  125.81  125.83    1370  2021      2   22   \n",
       "2021-02-22 19:57:00  125.85  125.85  125.80  125.80    5133  2021      2   22   \n",
       "2021-02-22 19:56:00  125.85  125.85  125.84  125.84    3717  2021      2   22   \n",
       "\n",
       "                     hour  minute  \n",
       "time                               \n",
       "2021-02-22 20:00:00    20       0  \n",
       "2021-02-22 19:59:00    19      59  \n",
       "2021-02-22 19:58:00    19      58  \n",
       "2021-02-22 19:57:00    19      57  \n",
       "2021-02-22 19:56:00    19      56  "
      ]
     },
     "execution_count": 3,
     "metadata": {},
     "output_type": "execute_result"
    }
   ],
   "source": [
    "stock_index_datetime = pd.to_datetime(stock.index)\n",
    "stock['year'] = stock_index_datetime.year\n",
    "stock['month'] = stock_index_datetime.month\n",
    "stock['day'] = stock_index_datetime.day\n",
    "stock['hour'] = stock_index_datetime.hour\n",
    "stock['minute'] = stock_index_datetime.minute\n",
    "stock.head()"
   ]
  },
  {
   "cell_type": "markdown",
   "id": "vital-principal",
   "metadata": {},
   "source": [
    "---"
   ]
  },
  {
   "cell_type": "markdown",
   "id": "faced-frost",
   "metadata": {},
   "source": [
    "# 4. Remove rows with NaN values"
   ]
  },
  {
   "cell_type": "code",
   "execution_count": 12,
   "id": "employed-terrain",
   "metadata": {},
   "outputs": [
    {
     "data": {
      "text/plain": [
       "open      0\n",
       "high      0\n",
       "low       0\n",
       "close     0\n",
       "volume    0\n",
       "year      0\n",
       "month     0\n",
       "day       0\n",
       "hour      0\n",
       "minute    0\n",
       "dtype: int64"
      ]
     },
     "execution_count": 12,
     "metadata": {},
     "output_type": "execute_result"
    }
   ],
   "source": [
    "stock = stock.dropna()\n",
    "stock.isnull().sum()"
   ]
  },
  {
   "cell_type": "markdown",
   "id": "piano-trustee",
   "metadata": {},
   "source": [
    "There are no NaN values in the dataset"
   ]
  },
  {
   "cell_type": "markdown",
   "id": "digital-portugal",
   "metadata": {},
   "source": [
    "---"
   ]
  },
  {
   "cell_type": "markdown",
   "id": "deadly-contact",
   "metadata": {},
   "source": [
    "# 5. Break dataset into contiguous chunks"
   ]
  },
  {
   "cell_type": "code",
   "execution_count": null,
   "id": "matched-orbit",
   "metadata": {},
   "outputs": [],
   "source": []
  }
 ],
 "metadata": {
  "kernelspec": {
   "display_name": "Python 3",
   "language": "python",
   "name": "python3"
  },
  "language_info": {
   "codemirror_mode": {
    "name": "ipython",
    "version": 3
   },
   "file_extension": ".py",
   "mimetype": "text/x-python",
   "name": "python",
   "nbconvert_exporter": "python",
   "pygments_lexer": "ipython3",
   "version": "3.8.5"
  }
 },
 "nbformat": 4,
 "nbformat_minor": 5
}
